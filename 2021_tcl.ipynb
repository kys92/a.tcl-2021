{
  "nbformat": 4,
  "nbformat_minor": 0,
  "metadata": {
    "colab": {
      "name": "2021 tcl.ipynb",
      "provenance": [],
      "collapsed_sections": [],
      "toc_visible": true,
      "mount_file_id": "1U1lCbyrJwbkfsBk8bHBLiVcZ08hC6sHo",
      "authorship_tag": "ABX9TyNtHLUJEB6ZiUdM9xuHM8lx",
      "include_colab_link": true
    },
    "kernelspec": {
      "name": "python3",
      "display_name": "Python 3"
    },
    "accelerator": "GPU"
  },
  "cells": [
    {
      "cell_type": "markdown",
      "metadata": {
        "id": "view-in-github",
        "colab_type": "text"
      },
      "source": [
        "<a href=\"https://colab.research.google.com/github/kys92/a.tcl-2021/blob/main/2021_tcl.ipynb\" target=\"_parent\"><img src=\"https://colab.research.google.com/assets/colab-badge.svg\" alt=\"Open In Colab\"/></a>"
      ]
    },
    {
      "cell_type": "markdown",
      "metadata": {
        "id": "AgagFB78wpU1"
      },
      "source": [
        "##데이터셋 가져오기"
      ]
    },
    {
      "cell_type": "code",
      "metadata": {
        "id": "zrn8a5Lawgo4",
        "colab": {
          "base_uri": "https://localhost:8080/"
        },
        "outputId": "44e09e72-d392-4e92-808a-355a03229a5b"
      },
      "source": [
        "from google.colab import drive\n",
        "drive.mount('/content/drive')"
      ],
      "execution_count": null,
      "outputs": [
        {
          "output_type": "stream",
          "text": [
            "Mounted at /content/drive\n"
          ],
          "name": "stdout"
        }
      ]
    },
    {
      "cell_type": "code",
      "metadata": {
        "id": "XcaDm74Dwu6Y"
      },
      "source": [
        "import warnings\n",
        "warnings.filterwarnings('ignore')\n",
        "import numpy as np\n",
        "import pandas as pd   \n",
        "import matplotlib.pyplot as plt\n",
        "import seaborn as sns\n",
        "import itertools\n",
        "\n",
        "from sklearn import preprocessing\n",
        "from sklearn.model_selection import train_test_split\n",
        "from sklearn.metrics import accuracy_score, confusion_matrix, log_loss\n",
        "\n",
        "from sklearn.linear_model import LogisticRegression\n",
        "from sklearn.tree import DecisionTreeClassifier\n",
        "\n",
        "from xgboost import XGBClassifier\n",
        "from lightgbm import LGBMClassifier\n",
        "#from catboost import CatBoostClassifier\n",
        "from sklearn import svm\n",
        "from sklearn.ensemble import RandomForestClassifier"
      ],
      "execution_count": null,
      "outputs": []
    },
    {
      "cell_type": "code",
      "metadata": {
        "id": "NWkXNiP2gT19"
      },
      "source": [
        "#!python --version\n",
        "#import sklearn\n",
        "#print(sklearn.__version__)"
      ],
      "execution_count": null,
      "outputs": []
    },
    {
      "cell_type": "code",
      "metadata": {
        "id": "pffyl9nHxaQM"
      },
      "source": [
        "# read dataset\n",
        "dataset = pd.read_csv('./drive/My Drive/Colab Notebooks/skcc_data/tcl_data.csv')"
      ],
      "execution_count": null,
      "outputs": []
    },
    {
      "cell_type": "markdown",
      "metadata": {
        "id": "ZEi0oPEXXfYj"
      },
      "source": [
        "## EDA 및 결측치 처리"
      ]
    },
    {
      "cell_type": "code",
      "metadata": {
        "id": "pyP8TYLCxw8W",
        "colab": {
          "base_uri": "https://localhost:8080/",
          "height": 309
        },
        "outputId": "67519c66-384d-47f1-f1bf-75ae1d579177"
      },
      "source": [
        "dataset.head()"
      ],
      "execution_count": null,
      "outputs": [
        {
          "output_type": "execute_result",
          "data": {
            "text/html": [
              "<div>\n",
              "<style scoped>\n",
              "    .dataframe tbody tr th:only-of-type {\n",
              "        vertical-align: middle;\n",
              "    }\n",
              "\n",
              "    .dataframe tbody tr th {\n",
              "        vertical-align: top;\n",
              "    }\n",
              "\n",
              "    .dataframe thead th {\n",
              "        text-align: right;\n",
              "    }\n",
              "</style>\n",
              "<table border=\"1\" class=\"dataframe\">\n",
              "  <thead>\n",
              "    <tr style=\"text-align: right;\">\n",
              "      <th></th>\n",
              "      <th>recontract_flag</th>\n",
              "      <th>target_value</th>\n",
              "      <th>end_detail</th>\n",
              "      <th>new_flag</th>\n",
              "      <th>maker</th>\n",
              "      <th>brand</th>\n",
              "      <th>price</th>\n",
              "      <th>start_date</th>\n",
              "      <th>end_date</th>\n",
              "      <th>promise_month</th>\n",
              "      <th>real_month</th>\n",
              "      <th>sec_condition</th>\n",
              "      <th>sec_rate</th>\n",
              "      <th>start_dist</th>\n",
              "      <th>end_dist</th>\n",
              "      <th>age</th>\n",
              "      <th>sex</th>\n",
              "      <th>credit_grade</th>\n",
              "      <th>accident</th>\n",
              "      <th>fine_light</th>\n",
              "      <th>fine_heavy</th>\n",
              "      <th>delay_count</th>\n",
              "      <th>delay_sum</th>\n",
              "    </tr>\n",
              "  </thead>\n",
              "  <tbody>\n",
              "    <tr>\n",
              "      <th>0</th>\n",
              "      <td>신규</td>\n",
              "      <td>0</td>\n",
              "      <td>만기해지(인수)</td>\n",
              "      <td>신차</td>\n",
              "      <td>현대자동차</td>\n",
              "      <td>아반떼</td>\n",
              "      <td>19130000</td>\n",
              "      <td>20170311</td>\n",
              "      <td>20210310</td>\n",
              "      <td>48</td>\n",
              "      <td>48</td>\n",
              "      <td>보증보험(증권)</td>\n",
              "      <td>25</td>\n",
              "      <td>0.0</td>\n",
              "      <td>50000.0</td>\n",
              "      <td>60.0</td>\n",
              "      <td>남</td>\n",
              "      <td>NaN</td>\n",
              "      <td>5</td>\n",
              "      <td>9</td>\n",
              "      <td>10</td>\n",
              "      <td>1</td>\n",
              "      <td>4700</td>\n",
              "    </tr>\n",
              "    <tr>\n",
              "      <th>1</th>\n",
              "      <td>신규</td>\n",
              "      <td>0</td>\n",
              "      <td>만기해지(인수)</td>\n",
              "      <td>신차</td>\n",
              "      <td>쌍용자동차</td>\n",
              "      <td>티볼리</td>\n",
              "      <td>25210000</td>\n",
              "      <td>20170326</td>\n",
              "      <td>20210325</td>\n",
              "      <td>48</td>\n",
              "      <td>48</td>\n",
              "      <td>선수금</td>\n",
              "      <td>30</td>\n",
              "      <td>0.0</td>\n",
              "      <td>50000.0</td>\n",
              "      <td>51.0</td>\n",
              "      <td>여</td>\n",
              "      <td>NaN</td>\n",
              "      <td>1</td>\n",
              "      <td>1</td>\n",
              "      <td>2</td>\n",
              "      <td>0</td>\n",
              "      <td>0</td>\n",
              "    </tr>\n",
              "    <tr>\n",
              "      <th>2</th>\n",
              "      <td>신규</td>\n",
              "      <td>1</td>\n",
              "      <td>중도반납</td>\n",
              "      <td>신차</td>\n",
              "      <td>현대자동차</td>\n",
              "      <td>싼타페</td>\n",
              "      <td>37600000</td>\n",
              "      <td>20170520</td>\n",
              "      <td>20210310</td>\n",
              "      <td>48</td>\n",
              "      <td>46</td>\n",
              "      <td>보증보험(증권)</td>\n",
              "      <td>20</td>\n",
              "      <td>0.0</td>\n",
              "      <td>111290.0</td>\n",
              "      <td>51.0</td>\n",
              "      <td>남</td>\n",
              "      <td>NaN</td>\n",
              "      <td>1</td>\n",
              "      <td>1</td>\n",
              "      <td>6</td>\n",
              "      <td>16</td>\n",
              "      <td>273100</td>\n",
              "    </tr>\n",
              "    <tr>\n",
              "      <th>3</th>\n",
              "      <td>신규</td>\n",
              "      <td>0</td>\n",
              "      <td>만기해지(인수)</td>\n",
              "      <td>신차</td>\n",
              "      <td>현대자동차</td>\n",
              "      <td>투싼</td>\n",
              "      <td>25280000</td>\n",
              "      <td>20170222</td>\n",
              "      <td>20210221</td>\n",
              "      <td>48</td>\n",
              "      <td>48</td>\n",
              "      <td>보증보험(증권)</td>\n",
              "      <td>30</td>\n",
              "      <td>0.0</td>\n",
              "      <td>20000.0</td>\n",
              "      <td>NaN</td>\n",
              "      <td>NaN</td>\n",
              "      <td>NaN</td>\n",
              "      <td>0</td>\n",
              "      <td>1</td>\n",
              "      <td>25</td>\n",
              "      <td>0</td>\n",
              "      <td>0</td>\n",
              "    </tr>\n",
              "    <tr>\n",
              "      <th>4</th>\n",
              "      <td>신규</td>\n",
              "      <td>0</td>\n",
              "      <td>만기해지(인수)</td>\n",
              "      <td>신차</td>\n",
              "      <td>BMW</td>\n",
              "      <td>5-SERIES</td>\n",
              "      <td>73400000</td>\n",
              "      <td>20170313</td>\n",
              "      <td>20210312</td>\n",
              "      <td>48</td>\n",
              "      <td>48</td>\n",
              "      <td>보증보험(증권)</td>\n",
              "      <td>20</td>\n",
              "      <td>10000.0</td>\n",
              "      <td>50000.0</td>\n",
              "      <td>47.0</td>\n",
              "      <td>남</td>\n",
              "      <td>2.0</td>\n",
              "      <td>1</td>\n",
              "      <td>0</td>\n",
              "      <td>0</td>\n",
              "      <td>0</td>\n",
              "      <td>0</td>\n",
              "    </tr>\n",
              "  </tbody>\n",
              "</table>\n",
              "</div>"
            ],
            "text/plain": [
              "  recontract_flag  target_value end_detail  ... fine_heavy delay_count delay_sum\n",
              "0              신규             0   만기해지(인수)  ...         10           1      4700\n",
              "1              신규             0   만기해지(인수)  ...          2           0         0\n",
              "2              신규             1       중도반납  ...          6          16    273100\n",
              "3              신규             0   만기해지(인수)  ...         25           0         0\n",
              "4              신규             0   만기해지(인수)  ...          0           0         0\n",
              "\n",
              "[5 rows x 23 columns]"
            ]
          },
          "metadata": {
            "tags": []
          },
          "execution_count": 53
        }
      ]
    },
    {
      "cell_type": "code",
      "metadata": {
        "colab": {
          "base_uri": "https://localhost:8080/"
        },
        "id": "7Lm3Ga4_UoUv",
        "outputId": "d5f72636-3579-43d7-ed52-3c0d04a8e2de"
      },
      "source": [
        "dataset.shape"
      ],
      "execution_count": null,
      "outputs": [
        {
          "output_type": "execute_result",
          "data": {
            "text/plain": [
              "(2045, 23)"
            ]
          },
          "metadata": {
            "tags": []
          },
          "execution_count": 9
        }
      ]
    },
    {
      "cell_type": "code",
      "metadata": {
        "colab": {
          "base_uri": "https://localhost:8080/"
        },
        "id": "htKa6BTzVCHF",
        "outputId": "f375ed6e-54e0-4e5d-813f-306eee03eaee"
      },
      "source": [
        "dataset.info()"
      ],
      "execution_count": null,
      "outputs": [
        {
          "output_type": "stream",
          "text": [
            "<class 'pandas.core.frame.DataFrame'>\n",
            "RangeIndex: 2045 entries, 0 to 2044\n",
            "Data columns (total 23 columns):\n",
            " #   Column           Non-Null Count  Dtype  \n",
            "---  ------           --------------  -----  \n",
            " 0   recontract_flag  2045 non-null   object \n",
            " 1   target_value     2045 non-null   int64  \n",
            " 2   end_detail       2045 non-null   object \n",
            " 3   new_flag         2045 non-null   object \n",
            " 4   maker            2045 non-null   object \n",
            " 5   brand            2045 non-null   object \n",
            " 6   price            2045 non-null   int64  \n",
            " 7   start_date       2045 non-null   int64  \n",
            " 8   end_date         2045 non-null   int64  \n",
            " 9   promise_month    2045 non-null   int64  \n",
            " 10  real_month       2045 non-null   int64  \n",
            " 11  sec_condition    2045 non-null   object \n",
            " 12  sec_rate         2045 non-null   int64  \n",
            " 13  start_dist       2016 non-null   float64\n",
            " 14  end_dist         1880 non-null   float64\n",
            " 15  age              2034 non-null   float64\n",
            " 16  sex              2004 non-null   object \n",
            " 17  credit_grade     1265 non-null   float64\n",
            " 18  accident         2045 non-null   int64  \n",
            " 19  fine_light       2045 non-null   int64  \n",
            " 20  fine_heavy       2045 non-null   int64  \n",
            " 21  delay_count      2045 non-null   int64  \n",
            " 22  delay_sum        2045 non-null   int64  \n",
            "dtypes: float64(4), int64(12), object(7)\n",
            "memory usage: 367.6+ KB\n"
          ],
          "name": "stdout"
        }
      ]
    },
    {
      "cell_type": "code",
      "metadata": {
        "colab": {
          "base_uri": "https://localhost:8080/"
        },
        "id": "AXuaa1L2VbtH",
        "outputId": "9920726c-a958-465a-d610-7b7ccea9f6d7"
      },
      "source": [
        "dataset.isnull().sum()"
      ],
      "execution_count": null,
      "outputs": [
        {
          "output_type": "execute_result",
          "data": {
            "text/plain": [
              "recontract_flag      0\n",
              "target_value         0\n",
              "end_detail           0\n",
              "new_flag             0\n",
              "maker                0\n",
              "brand                0\n",
              "price                0\n",
              "start_date           0\n",
              "end_date             0\n",
              "promise_month        0\n",
              "real_month           0\n",
              "sec_condition        0\n",
              "sec_rate             0\n",
              "start_dist          29\n",
              "end_dist           165\n",
              "age                 11\n",
              "sex                 41\n",
              "credit_grade       780\n",
              "accident             0\n",
              "fine_light           0\n",
              "fine_heavy           0\n",
              "delay_count          0\n",
              "delay_sum            0\n",
              "dtype: int64"
            ]
          },
          "metadata": {
            "tags": []
          },
          "execution_count": 48
        }
      ]
    },
    {
      "cell_type": "code",
      "metadata": {
        "id": "CzmqgLwHWc48"
      },
      "source": [
        "# 결측치 처리를 어떻게 할 것인가?\n",
        "#dataset = dataset.drop('credit_grade', axis=1) 결측치 너무 많은 컬럼은 삭제도 방법"
      ],
      "execution_count": null,
      "outputs": []
    },
    {
      "cell_type": "code",
      "metadata": {
        "id": "XXRJPkapW5El"
      },
      "source": [
        "# 재계약구분 값 변경\n",
        "dataset['recontract_flag'] = dataset['recontract_flag'].replace(['신규','재계약'],[0,1])"
      ],
      "execution_count": null,
      "outputs": []
    },
    {
      "cell_type": "code",
      "metadata": {
        "id": "ZdhgeSMnYlp5"
      },
      "source": [
        "# 신차, 중고차 여부\n",
        "dataset['new_flag'] = dataset['new_flag'].replace(['신차','중고차'],[0,1])"
      ],
      "execution_count": null,
      "outputs": []
    },
    {
      "cell_type": "code",
      "metadata": {
        "id": "mnNxvD-GZeVK"
      },
      "source": [
        "# 고객 성별\n",
        "dataset['sex'] = dataset['sex'].replace(['여','남'],[0,1])"
      ],
      "execution_count": null,
      "outputs": []
    },
    {
      "cell_type": "code",
      "metadata": {
        "colab": {
          "base_uri": "https://localhost:8080/"
        },
        "id": "OunbB1-_Z758",
        "outputId": "81e34974-c184-4b8c-c9a3-64054fdd7f2c"
      },
      "source": [
        "# 종료 사유\n",
        "print(dataset['end_detail'].unique())"
      ],
      "execution_count": null,
      "outputs": [
        {
          "output_type": "stream",
          "text": [
            "['만기해지(인수)' '중도반납' '만기해지(반납)' '계약위반' '계약이관' '채권연체' '사고폐차']\n"
          ],
          "name": "stdout"
        }
      ]
    },
    {
      "cell_type": "code",
      "metadata": {
        "id": "UGGdN_JpaMAC"
      },
      "source": [
        "label_encoder = preprocessing.LabelEncoder()\n",
        "dataset['end_detail'] = label_encoder.fit_transform(dataset['end_detail'])"
      ],
      "execution_count": null,
      "outputs": []
    },
    {
      "cell_type": "code",
      "metadata": {
        "colab": {
          "base_uri": "https://localhost:8080/"
        },
        "id": "E16nkBDmawRC",
        "outputId": "a2bba8cf-7e06-432b-d94c-29ccdf4c05f3"
      },
      "source": [
        "print(dataset['end_detail'].unique())"
      ],
      "execution_count": null,
      "outputs": [
        {
          "output_type": "stream",
          "text": [
            "[3 5 2 0 1 6 4]\n"
          ],
          "name": "stdout"
        }
      ]
    },
    {
      "cell_type": "code",
      "metadata": {
        "id": "KUwdJahIa02F"
      },
      "source": [
        "# 제조사명, 차명, 담보조건\n",
        "dataset['maker'] = label_encoder.fit_transform(dataset['maker'])\n",
        "dataset['brand'] = label_encoder.fit_transform(dataset['brand'])\n",
        "dataset['sec_condition'] = label_encoder.fit_transform(dataset['sec_condition'])"
      ],
      "execution_count": null,
      "outputs": []
    },
    {
      "cell_type": "code",
      "metadata": {
        "id": "qxHV7NDkiLG0"
      },
      "source": [
        "# 변수 타입 정의\n",
        "binary = ['recontract_flag', 'target_value', 'new_flag', 'sex']\n",
        "category = ['end_detail', 'maker', 'brand', 'sec_condition', 'credit_grade']\n",
        "integer = ['price', 'start_date', 'end_date', 'promise_month', 'real_month', 'sec_rate', 'start_dist', 'end_dist', \n",
        "           'age', 'accident', 'fine_light', 'fine_heavy', 'delay_count', 'delay_sum']"
      ],
      "execution_count": null,
      "outputs": []
    },
    {
      "cell_type": "code",
      "metadata": {
        "colab": {
          "base_uri": "https://localhost:8080/",
          "height": 1000
        },
        "id": "_zPcFRkTclIr",
        "outputId": "95c13707-d43f-4a77-f7cc-225e4bc78452"
      },
      "source": [
        "# 히스토그램 그래프 시각화를 위한 함수\n",
        "def bar_plot(col, data, hue=None) :\n",
        "  f, ax = plt.subplots(figsize=(10, 5))\n",
        "  sns.countplot(x=col, hue=hue, data=data, alpha=0.5)\n",
        "  plt.show()\n",
        "\n",
        "for col in binary + category + integer :\n",
        "  bar_plot(col, dataset)"
      ],
      "execution_count": null,
      "outputs": [
        {
          "output_type": "display_data",
          "data": {
            "image/png": "[encoded data removed]",
            "text/plain": [
              "<Figure size 720x360 with 1 Axes>"
            ]
          },
          "metadata": {
            "tags": [],
            "needs_background": "light"
          }
        },
        {
          "output_type": "display_data",
          "data": {
            "image/png": "[encoded data removed]",
            "text/plain": [
              "<Figure size 720x360 with 1 Axes>"
            ]
          },
          "metadata": {
            "tags": [],
            "needs_background": "light"
          }
        },
        {
          "output_type": "display_data",
          "data": {
            "image/png": "[encoded data removed]",
            "text/plain": [
              "<Figure size 720x360 with 1 Axes>"
            ]
          },
          "metadata": {
            "tags": [],
            "needs_background": "light"
          }
        },
        {
          "output_type": "display_data",
          "data": {
            "image/png": "[encoded data removed]",
            "text/plain": [
              "<Figure size 720x360 with 1 Axes>"
            ]
          },
          "metadata": {
            "tags": [],
            "needs_background": "light"
          }
        },
        {
          "output_type": "display_data",
          "data": {
            "image/png": "[encoded data removed]",
            "text/plain": [
              "<Figure size 720x360 with 1 Axes>"
            ]
          },
          "metadata": {
            "tags": [],
            "needs_background": "light"
          }
        },
        {
          "output_type": "display_data",
          "data": {
            "image/png": "[encoded data removed]",
            "text/plain": [
              "<Figure size 720x360 with 1 Axes>"
            ]
          },
          "metadata": {
            "tags": [],
            "needs_background": "light"
          }
        },
        {
          "output_type": "display_data",
          "data": {
            "image/png": "[encoded data removed]",
            "text/plain": [
              "<Figure size 720x360 with 1 Axes>"
            ]
          },
          "metadata": {
            "tags": [],
            "needs_background": "light"
          }
        },
        {
          "output_type": "display_data",
          "data": {
            "image/png": "[encoded data removed]",
            "text/plain": [
              "<Figure size 720x360 with 1 Axes>"
            ]
          },
          "metadata": {
            "tags": [],
            "needs_background": "light"
          }
        },
        {
          "output_type": "display_data",
          "data": {
            "image/png": "[encoded data removed]",
            "text/plain": [
              "<Figure size 720x360 with 1 Axes>"
            ]
          },
          "metadata": {
            "tags": [],
            "needs_background": "light"
          }
        },
        {
          "output_type": "display_data",
          "data": {
            "image/png": "[encoded data removed]",
            "text/plain": [
              "<Figure size 720x360 with 1 Axes>"
            ]
          },
          "metadata": {
            "tags": [],
            "needs_background": "light"
          }
        },
        {
          "output_type": "display_data",
          "data": {
            "image/png": "[encoded data removed]",
            "text/plain": [
              "<Figure size 720x360 with 1 Axes>"
            ]
          },
          "metadata": {
            "tags": [],
            "needs_background": "light"
          }
        },
        {
          "output_type": "display_data",
          "data": {
            "image/png": "[encoded data removed]",
            "text/plain": [
              "<Figure size 720x360 with 1 Axes>"
            ]
          },
          "metadata": {
            "tags": [],
            "needs_background": "light"
          }
        },
        {
          "output_type": "display_data",
          "data": {
            "image/png": "[encoded data removed]",
            "text/plain": [
              "<Figure size 720x360 with 1 Axes>"
            ]
          },
          "metadata": {
            "tags": [],
            "needs_background": "light"
          }
        },
        {
          "output_type": "display_data",
          "data": {
            "image/png": "[encoded data removed]",
            "text/plain": [
              "<Figure size 720x360 with 1 Axes>"
            ]
          },
          "metadata": {
            "tags": [],
            "needs_background": "light"
          }
        },
        {
          "output_type": "display_data",
          "data": {
            "image/png": "[encoded data removed]",
            "text/plain": [
              "<Figure size 720x360 with 1 Axes>"
            ]
          },
          "metadata": {
            "tags": [],
            "needs_background": "light"
          }
        },
        {
          "output_type": "display_data",
          "data": {
            "image/png": "[encoded data removed]",
            "text/plain": [
              "<Figure size 720x360 with 1 Axes>"
            ]
          },
          "metadata": {
            "tags": [],
            "needs_background": "light"
          }
        },
        {
          "output_type": "display_data",
          "data": {
            "image/png": "[encoded data removed]",
            "text/plain": [
              "<Figure size 720x360 with 1 Axes>"
            ]
          },
          "metadata": {
            "tags": [],
            "needs_background": "light"
          }
        },
        {
          "output_type": "display_data",
          "data": {
            "image/png": "[encoded data removed]",
            "text/plain": [
              "<Figure size 720x360 with 1 Axes>"
            ]
          },
          "metadata": {
            "tags": [],
            "needs_background": "light"
          }
        },
        {
          "output_type": "display_data",
          "data": {
            "image/png": "[encoded data removed]",
            "text/plain": [
              "<Figure size 720x360 with 1 Axes>"
            ]
          },
          "metadata": {
            "tags": [],
            "needs_background": "light"
          }
        },
        {
          "output_type": "display_data",
          "data": {
            "image/png": "[encoded data removed]",
            "text/plain": [
              "<Figure size 720x360 with 1 Axes>"
            ]
          },
          "metadata": {
            "tags": [],
            "needs_background": "light"
          }
        },
        {
          "output_type": "display_data",
          "data": {
            "image/png": "[encoded data removed]",
            "text/plain": [
              "<Figure size 720x360 with 1 Axes>"
            ]
          },
          "metadata": {
            "tags": [],
            "needs_background": "light"
          }
        },
        {
          "output_type": "display_data",
          "data": {
            "image/png": "[encoded data removed]",
            "text/plain": [
              "<Figure size 720x360 with 1 Axes>"
            ]
          },
          "metadata": {
            "tags": [],
            "needs_background": "light"
          }
        },
        {
          "output_type": "display_data",
          "data": {
            "image/png": "[encoded data removed]",
            "text/plain": [
              "<Figure size 720x360 with 1 Axes>"
            ]
          },
          "metadata": {
            "tags": [],
            "needs_background": "light"
          }
        }
      ]
    },
    {
      "cell_type": "code",
      "metadata": {
        "id": "jN5oBa4ahSgP"
      },
      "source": [
        ""
      ],
      "execution_count": null,
      "outputs": []
    },
    {
      "cell_type": "code",
      "metadata": {
        "id": "CmoWm93Dckv4"
      },
      "source": [
        ""
      ],
      "execution_count": null,
      "outputs": []
    },
    {
      "cell_type": "code",
      "metadata": {
        "id": "bbt7yj_7yCru",
        "colab": {
          "base_uri": "https://localhost:8080/",
          "height": 297
        },
        "outputId": "1f5656c8-09f4-40ca-82ee-7bfa9c6776f4"
      },
      "source": [
        "# Describe the all statistical properties of the training dataset\n",
        "dataset[dataset.columns[3073:]].describe()"
      ],
      "execution_count": null,
      "outputs": [
        {
          "output_type": "execute_result",
          "data": {
            "text/html": [
              "<div>\n",
              "<style scoped>\n",
              "    .dataframe tbody tr th:only-of-type {\n",
              "        vertical-align: middle;\n",
              "    }\n",
              "\n",
              "    .dataframe tbody tr th {\n",
              "        vertical-align: top;\n",
              "    }\n",
              "\n",
              "    .dataframe thead th {\n",
              "        text-align: right;\n",
              "    }\n",
              "</style>\n",
              "<table border=\"1\" class=\"dataframe\">\n",
              "  <thead>\n",
              "    <tr style=\"text-align: right;\">\n",
              "      <th></th>\n",
              "      <th>MolWt</th>\n",
              "      <th>clogp</th>\n",
              "      <th>sa_score</th>\n",
              "      <th>qed</th>\n",
              "      <th>label</th>\n",
              "    </tr>\n",
              "  </thead>\n",
              "  <tbody>\n",
              "    <tr>\n",
              "      <th>count</th>\n",
              "      <td>8349.000000</td>\n",
              "      <td>8349.000000</td>\n",
              "      <td>8349.000000</td>\n",
              "      <td>8349.000000</td>\n",
              "      <td>8349.000000</td>\n",
              "    </tr>\n",
              "    <tr>\n",
              "      <th>mean</th>\n",
              "      <td>443.248753</td>\n",
              "      <td>3.794829</td>\n",
              "      <td>3.187613</td>\n",
              "      <td>0.559151</td>\n",
              "      <td>0.544017</td>\n",
              "    </tr>\n",
              "    <tr>\n",
              "      <th>std</th>\n",
              "      <td>88.876374</td>\n",
              "      <td>1.379045</td>\n",
              "      <td>0.727768</td>\n",
              "      <td>0.185664</td>\n",
              "      <td>0.498089</td>\n",
              "    </tr>\n",
              "    <tr>\n",
              "      <th>min</th>\n",
              "      <td>94.117000</td>\n",
              "      <td>-4.048930</td>\n",
              "      <td>1.282432</td>\n",
              "      <td>0.024365</td>\n",
              "      <td>0.000000</td>\n",
              "    </tr>\n",
              "    <tr>\n",
              "      <th>25%</th>\n",
              "      <td>383.879000</td>\n",
              "      <td>2.874500</td>\n",
              "      <td>2.663425</td>\n",
              "      <td>0.425440</td>\n",
              "      <td>0.000000</td>\n",
              "    </tr>\n",
              "    <tr>\n",
              "      <th>50%</th>\n",
              "      <td>441.522000</td>\n",
              "      <td>3.735100</td>\n",
              "      <td>3.093155</td>\n",
              "      <td>0.556410</td>\n",
              "      <td>1.000000</td>\n",
              "    </tr>\n",
              "    <tr>\n",
              "      <th>75%</th>\n",
              "      <td>495.639000</td>\n",
              "      <td>4.652500</td>\n",
              "      <td>3.593547</td>\n",
              "      <td>0.700506</td>\n",
              "      <td>1.000000</td>\n",
              "    </tr>\n",
              "    <tr>\n",
              "      <th>max</th>\n",
              "      <td>1242.488000</td>\n",
              "      <td>9.429480</td>\n",
              "      <td>7.309297</td>\n",
              "      <td>0.947494</td>\n",
              "      <td>1.000000</td>\n",
              "    </tr>\n",
              "  </tbody>\n",
              "</table>\n",
              "</div>"
            ],
            "text/plain": [
              "             MolWt        clogp     sa_score          qed        label\n",
              "count  8349.000000  8349.000000  8349.000000  8349.000000  8349.000000\n",
              "mean    443.248753     3.794829     3.187613     0.559151     0.544017\n",
              "std      88.876374     1.379045     0.727768     0.185664     0.498089\n",
              "min      94.117000    -4.048930     1.282432     0.024365     0.000000\n",
              "25%     383.879000     2.874500     2.663425     0.425440     0.000000\n",
              "50%     441.522000     3.735100     3.093155     0.556410     1.000000\n",
              "75%     495.639000     4.652500     3.593547     0.700506     1.000000\n",
              "max    1242.488000     9.429480     7.309297     0.947494     1.000000"
            ]
          },
          "metadata": {
            "tags": []
          },
          "execution_count": 7
        }
      ]
    },
    {
      "cell_type": "code",
      "metadata": {
        "id": "IydyLiwmy9VQ",
        "colab": {
          "base_uri": "https://localhost:8080/",
          "height": 68
        },
        "outputId": "92ccd2a4-17be-45a8-c4f4-63a9c09e0ad5"
      },
      "source": [
        "# **** This give you the calulation of the target lebels. Which category of the target lebel is how many percentage.\n",
        "total_len = len(dataset['label'])\n",
        "percentage_labels = (dataset['label'].value_counts()/total_len)*100\n",
        "percentage_labels"
      ],
      "execution_count": null,
      "outputs": [
        {
          "output_type": "execute_result",
          "data": {
            "text/plain": [
              "1    54.401725\n",
              "0    45.598275\n",
              "Name: label, dtype: float64"
            ]
          },
          "metadata": {
            "tags": []
          },
          "execution_count": 14
        }
      ]
    },
    {
      "cell_type": "code",
      "metadata": {
        "id": "rL1qOLaPkDUW",
        "colab": {
          "base_uri": "https://localhost:8080/",
          "height": 301
        },
        "outputId": "9a82537e-5c35-4b4f-e309-152a610af7d7"
      },
      "source": [
        "# Graphical representation of the target label percentage.\n",
        "sns.set()\n",
        "sns.countplot(dataset.label).set_title('Data Distribution')\n",
        "ax = plt.gca()\n",
        "for p in ax.patches:\n",
        "    height = p.get_height()\n",
        "    ax.text(p.get_x() + p.get_width()/2.,\n",
        "            height + 2,\n",
        "            '{:.2f}%'.format(100*(height/total_len)),\n",
        "            fontsize=12, ha='center', va='bottom')\n",
        "sns.set(font_scale=1.5)\n",
        "ax.set_xlabel(\"Labels for label attribute\")\n",
        "ax.set_ylabel(\"Numbers of records\")\n",
        "plt.show()"
      ],
      "execution_count": null,
      "outputs": [
        {
          "output_type": "display_data",
          "data": {
            "image/png": "[encoded data removed]",
            "text/plain": [
              "<Figure size 432x288 with 1 Axes>"
            ]
          },
          "metadata": {
            "tags": []
          }
        }
      ]
    },
    {
      "cell_type": "code",
      "metadata": {
        "id": "k2tutEZ3zaIe",
        "colab": {
          "base_uri": "https://localhost:8080/",
          "height": 221
        },
        "outputId": "a7e0dfca-f5cb-420b-c538-55a67ce22119"
      },
      "source": [
        "# You will get to know which column has missing value and it's give the count that how many records are missing \n",
        "dataset.isnull().sum()"
      ],
      "execution_count": null,
      "outputs": [
        {
          "output_type": "execute_result",
          "data": {
            "text/plain": [
              "SMILES      0\n",
              "ecfp_0      0\n",
              "ecfp_1      0\n",
              "ecfp_2      0\n",
              "ecfp_3      0\n",
              "           ..\n",
              "MolWt       0\n",
              "clogp       0\n",
              "sa_score    0\n",
              "qed         0\n",
              "label       0\n",
              "Length: 3078, dtype: int64"
            ]
          },
          "metadata": {
            "tags": []
          },
          "execution_count": 16
        }
      ]
    },
    {
      "cell_type": "code",
      "metadata": {
        "id": "YAPpNxksz07E"
      },
      "source": [
        "# graphical missing value \n",
        "x = dataset.columns\n",
        "y = dataset.isnull().sum()\n",
        "sns.set()\n",
        "sns.barplot(x,y)\n",
        "ax = plt.gca()\n",
        "for p in ax.patches:\n",
        "    height = p.get_height()\n",
        "    ax.text(p.get_x() + p.get_width()/2.,\n",
        "            height + 2,\n",
        "            int(height),\n",
        "            fontsize=14, ha='center', va='bottom')\n",
        "sns.set(font_scale=1.5)\n",
        "ax.set_xlabel(\"Data Attributes\")\n",
        "ax.set_ylabel(\"count of missing records for each attribute\")\n",
        "plt.xticks(rotation=90)\n",
        "plt.show()"
      ],
      "execution_count": null,
      "outputs": []
    },
    {
      "cell_type": "code",
      "metadata": {
        "id": "-Dopy2W90Q8k"
      },
      "source": [
        "training_data[training_data.columns[1:3077]].corr()"
      ],
      "execution_count": null,
      "outputs": []
    },
    {
      "cell_type": "code",
      "metadata": {
        "id": "kpYeb9s80_OV"
      },
      "source": [
        "sns.set()\n",
        "sns.set(font_scale=1.25)\n",
        "sns.heatmap(training_data[training_data.columns[1:3077]].corr(),annot=True,fmt=\".1f\")\n",
        "plt.show()"
      ],
      "execution_count": null,
      "outputs": []
    },
    {
      "cell_type": "markdown",
      "metadata": {
        "id": "k-0F2g-0WoWU"
      },
      "source": [
        "### Feature Importance"
      ]
    },
    {
      "cell_type": "code",
      "metadata": {
        "id": "WkzCYTTHMeqe"
      },
      "source": [
        "#from sklearn.ensemble import RandomForestClassifier"
      ],
      "execution_count": null,
      "outputs": []
    },
    {
      "cell_type": "code",
      "metadata": {
        "id": "uh-qaSKi8AjG"
      },
      "source": [
        "# 예측변수와 target label 설정\n",
        "X = dataset.drop(['SMILES','label'], axis=1)"
      ],
      "execution_count": null,
      "outputs": []
    },
    {
      "cell_type": "code",
      "metadata": {
        "id": "od7yI72z8EsB"
      },
      "source": [
        "X_ecfp = X[X.columns[:1024]]"
      ],
      "execution_count": null,
      "outputs": []
    },
    {
      "cell_type": "code",
      "metadata": {
        "id": "3E3CB9oZ8dub"
      },
      "source": [
        "X_mo = X[X.columns[-4:]]"
      ],
      "execution_count": null,
      "outputs": []
    },
    {
      "cell_type": "code",
      "metadata": {
        "id": "V1QNzUj69uQI"
      },
      "source": [
        "X_ecfp_mo = X.drop(X.columns[1024:3072], axis=1)"
      ],
      "execution_count": null,
      "outputs": []
    },
    {
      "cell_type": "code",
      "metadata": {
        "id": "T8qTb-W-IGX3"
      },
      "source": [
        "X_fcfp = X[X.columns[1024:2048]]"
      ],
      "execution_count": null,
      "outputs": []
    },
    {
      "cell_type": "code",
      "metadata": {
        "id": "LquTORQ9PBp5"
      },
      "source": [
        "X_ptfp = X[X.columns[2048:3072]]"
      ],
      "execution_count": null,
      "outputs": []
    },
    {
      "cell_type": "code",
      "metadata": {
        "id": "UwjTnoNtmS_G"
      },
      "source": [
        "# 분자 특성값을 scaling\n",
        "from sklearn import preprocessing\n",
        "min_max_scaler = preprocessing.MinMaxScaler()\n",
        "\n",
        "X_ecfp_mo[['MolWt','clogp','sa_score','qed']] = min_max_scaler.fit_transform(X_ecfp_mo[['MolWt','clogp','sa_score','qed']])"
      ],
      "execution_count": null,
      "outputs": []
    },
    {
      "cell_type": "code",
      "metadata": {
        "id": "1-3cEEhi8igc"
      },
      "source": [
        "# target class 정의\n",
        "y = dataset.label"
      ],
      "execution_count": null,
      "outputs": []
    },
    {
      "cell_type": "code",
      "metadata": {
        "id": "QpSazZRV_TT6"
      },
      "source": [
        "print(X_ecfp_mo)"
      ],
      "execution_count": null,
      "outputs": []
    },
    {
      "cell_type": "code",
      "metadata": {
        "id": "cOA7O723_nhw"
      },
      "source": [
        "X = X_ecfp\n",
        "#X = X_mo\n",
        "#X = X_ecfp_mo\n",
        "#X = X_fcfp\n",
        "#X = X_ptfp"
      ],
      "execution_count": null,
      "outputs": []
    },
    {
      "cell_type": "code",
      "metadata": {
        "id": "WvG8JLIVnqYD"
      },
      "source": [
        "# Feature 추가 \n",
        "X['bin_sum'] = X[X.columns[:1024]].sum(axis=1)"
      ],
      "execution_count": null,
      "outputs": []
    },
    {
      "cell_type": "code",
      "metadata": {
        "id": "Fg3j-BRzQfSd"
      },
      "source": [
        "# 예측변수와 target label 설정\n",
        "X = X.drop(['fcfp_sum','ptfp_sum'], axis=1)"
      ],
      "execution_count": null,
      "outputs": []
    },
    {
      "cell_type": "code",
      "metadata": {
        "id": "O_gvkW1-RBYQ"
      },
      "source": [
        "X = X.drop(['ecfp_sum'], axis=1)"
      ],
      "execution_count": null,
      "outputs": []
    },
    {
      "cell_type": "code",
      "metadata": {
        "id": "dk8QHBmQRHPl"
      },
      "source": [
        "X"
      ],
      "execution_count": null,
      "outputs": []
    },
    {
      "cell_type": "code",
      "metadata": {
        "id": "QWdg4P7T8n4F"
      },
      "source": [
        "features_label = X.columns[:]"
      ],
      "execution_count": null,
      "outputs": []
    },
    {
      "cell_type": "code",
      "metadata": {
        "id": "8_9HuRJ89H6J",
        "colab": {
          "base_uri": "https://localhost:8080/",
          "height": 204
        },
        "outputId": "62aa4c3a-542c-4c72-cd1f-7b0aa94acfd4"
      },
      "source": [
        "# 상관 관계\n",
        "X_mo.corr()"
      ],
      "execution_count": null,
      "outputs": [
        {
          "output_type": "execute_result",
          "data": {
            "text/html": [
              "<div>\n",
              "<style scoped>\n",
              "    .dataframe tbody tr th:only-of-type {\n",
              "        vertical-align: middle;\n",
              "    }\n",
              "\n",
              "    .dataframe tbody tr th {\n",
              "        vertical-align: top;\n",
              "    }\n",
              "\n",
              "    .dataframe thead th {\n",
              "        text-align: right;\n",
              "    }\n",
              "</style>\n",
              "<table border=\"1\" class=\"dataframe\">\n",
              "  <thead>\n",
              "    <tr style=\"text-align: right;\">\n",
              "      <th></th>\n",
              "      <th>MolWt</th>\n",
              "      <th>clogp</th>\n",
              "      <th>sa_score</th>\n",
              "      <th>qed</th>\n",
              "      <th>label</th>\n",
              "    </tr>\n",
              "  </thead>\n",
              "  <tbody>\n",
              "    <tr>\n",
              "      <th>MolWt</th>\n",
              "      <td>1.000000</td>\n",
              "      <td>0.341964</td>\n",
              "      <td>0.405791</td>\n",
              "      <td>-0.747186</td>\n",
              "      <td>-0.005710</td>\n",
              "    </tr>\n",
              "    <tr>\n",
              "      <th>clogp</th>\n",
              "      <td>0.341964</td>\n",
              "      <td>1.000000</td>\n",
              "      <td>-0.147969</td>\n",
              "      <td>-0.442464</td>\n",
              "      <td>-0.273023</td>\n",
              "    </tr>\n",
              "    <tr>\n",
              "      <th>sa_score</th>\n",
              "      <td>0.405791</td>\n",
              "      <td>-0.147969</td>\n",
              "      <td>1.000000</td>\n",
              "      <td>-0.161738</td>\n",
              "      <td>0.077903</td>\n",
              "    </tr>\n",
              "    <tr>\n",
              "      <th>qed</th>\n",
              "      <td>-0.747186</td>\n",
              "      <td>-0.442464</td>\n",
              "      <td>-0.161738</td>\n",
              "      <td>1.000000</td>\n",
              "      <td>0.083707</td>\n",
              "    </tr>\n",
              "    <tr>\n",
              "      <th>label</th>\n",
              "      <td>-0.005710</td>\n",
              "      <td>-0.273023</td>\n",
              "      <td>0.077903</td>\n",
              "      <td>0.083707</td>\n",
              "      <td>1.000000</td>\n",
              "    </tr>\n",
              "  </tbody>\n",
              "</table>\n",
              "</div>"
            ],
            "text/plain": [
              "             MolWt     clogp  sa_score       qed     label\n",
              "MolWt     1.000000  0.341964  0.405791 -0.747186 -0.005710\n",
              "clogp     0.341964  1.000000 -0.147969 -0.442464 -0.273023\n",
              "sa_score  0.405791 -0.147969  1.000000 -0.161738  0.077903\n",
              "qed      -0.747186 -0.442464 -0.161738  1.000000  0.083707\n",
              "label    -0.005710 -0.273023  0.077903  0.083707  1.000000"
            ]
          },
          "metadata": {
            "tags": []
          },
          "execution_count": 11
        }
      ]
    },
    {
      "cell_type": "code",
      "metadata": {
        "id": "4G7MW9nH9eYp",
        "colab": {
          "base_uri": "https://localhost:8080/",
          "height": 277
        },
        "outputId": "297764e4-724a-4510-fa04-e94665eb7ecd"
      },
      "source": [
        "sns.set()\n",
        "sns.set(font_scale=1.25)\n",
        "sns.heatmap(X_mo.corr(),annot=True,fmt=\".1f\")\n",
        "plt.show()"
      ],
      "execution_count": null,
      "outputs": [
        {
          "output_type": "display_data",
          "data": {
            "image/png": "[encoded data removed]",
            "text/plain": [
              "<Figure size 432x288 with 2 Axes>"
            ]
          },
          "metadata": {
            "tags": []
          }
        }
      ]
    },
    {
      "cell_type": "code",
      "metadata": {
        "id": "ZYuYS_568wNH",
        "colab": {
          "base_uri": "https://localhost:8080/",
          "height": 85
        },
        "outputId": "5672eda4-73f4-4ab6-db9f-e614228cc5c5"
      },
      "source": [
        "# 변수 중요도 계산\n",
        "forest = RandomForestClassifier (n_estimators = 10000, random_state=0, n_jobs = -1)\n",
        "forest.fit(X, y)\n",
        "importances = forest.feature_importances_\n",
        "indices = np. argsort(importances)[::-1]\n",
        "for i in range(X.shape[1]):\n",
        "    print (\"%2d) %-*s %f\" % (i + 1, 30, features_label[i],importances[indices[i]]))"
      ],
      "execution_count": null,
      "outputs": [
        {
          "output_type": "stream",
          "text": [
            " 1) ecfp_0                         0.286977\n",
            " 2) ecfp_1                         0.250486\n",
            " 3) ecfp_2                         0.231584\n",
            " 4) ecfp_3                         0.230952\n"
          ],
          "name": "stdout"
        }
      ]
    },
    {
      "cell_type": "code",
      "metadata": {
        "id": "34NEeGi9YaUl"
      },
      "source": [
        "# Feature 중요순으로 그래프 그리기\n",
        "plt.title('Feature Importances')\n",
        "plt.bar(range(X.shape[1]),importances[indices], color=\"green\", align=\"center\")\n",
        "plt.xticks(range(X.shape[1]),features_label, rotation=90)\n",
        "plt.xlim([-1, X.shape[1]])\n",
        "plt.show()"
      ],
      "execution_count": null,
      "outputs": []
    },
    {
      "cell_type": "markdown",
      "metadata": {
        "id": "faHT6AJkabBR"
      },
      "source": [
        "###Train and build baseline model"
      ]
    },
    {
      "cell_type": "markdown",
      "metadata": {
        "id": "rBG0dZwIBYCZ"
      },
      "source": [
        "####데이터 분할"
      ]
    },
    {
      "cell_type": "code",
      "metadata": {
        "id": "YAmR1SsHaVex"
      },
      "source": [
        "from sklearn.linear_model import LogisticRegression\n",
        "from sklearn.ensemble import AdaBoostClassifier, GradientBoostingClassifier, RandomForestClassifier\n",
        "from sklearn.neighbors import KNeighborsClassifier\n",
        "from sklearn.model_selection import train_test_split\n",
        "from sklearn.metrics import roc_auc_score\n",
        "from sklearn.metrics import confusion_matrix\n",
        "from sklearn.metrics import classification_report"
      ],
      "execution_count": null,
      "outputs": []
    },
    {
      "cell_type": "code",
      "metadata": {
        "id": "ZmSxXfQMAGqc"
      },
      "source": [
        "print(X);print(y)"
      ],
      "execution_count": null,
      "outputs": []
    },
    {
      "cell_type": "code",
      "metadata": {
        "id": "vTcrZkUOaxWM"
      },
      "source": [
        "# X, y 훈련, 테스트 데이터 분리\n",
        "X_train, X_test, y_train, y_test = train_test_split(X, y, test_size=0.1, random_state=123)"
      ],
      "execution_count": null,
      "outputs": []
    },
    {
      "cell_type": "code",
      "metadata": {
        "id": "waCayM9tvFMv"
      },
      "source": [
        "print(X_train); print(X_test); print(y_train); print(y_test);"
      ],
      "execution_count": null,
      "outputs": []
    },
    {
      "cell_type": "markdown",
      "metadata": {
        "id": "QP7pSP6kcHeb"
      },
      "source": [
        "####KNN"
      ]
    },
    {
      "cell_type": "code",
      "metadata": {
        "id": "A8GgBZkoa4f4"
      },
      "source": [
        "# 모델 정의\n",
        "#knMod = KNeighborsClassifier(n_neighbors=5, weights='uniform', algorithm='auto', leaf_size=30, p=2,\n",
        "#                             metric='minkowski', metric_params=None)\n",
        "knMod = KNeighborsClassifier()\n",
        "# 모델 피팅\n",
        "knMod.fit(X_train, y_train)\n",
        "# 모델 예측\n",
        "kn_pred_labels = knMod.predict(X_test.values)"
      ],
      "execution_count": null,
      "outputs": []
    },
    {
      "cell_type": "markdown",
      "metadata": {
        "id": "5LQuVvoocTHw"
      },
      "source": [
        "####Logistic Regression"
      ]
    },
    {
      "cell_type": "code",
      "metadata": {
        "id": "V31-Yr9zbeMv"
      },
      "source": [
        "# 모델 정의\n",
        "#glmMod = LogisticRegression(penalty='l1', dual=False, tol=0.0001, C=1.0, fit_intercept=True,\n",
        "#                            intercept_scaling=1, class_weight=None, \n",
        "#                            random_state=None, solver='liblinear', max_iter=100,\n",
        "#                            multi_class='ovr', verbose=2)\n",
        "glmMod = LogisticRegression()\n",
        "# 모델 피팅\n",
        "glmMod.fit(X_train, y_train)\n",
        "# 모델 예측\n",
        "glm_pred_labels = glmMod.predict(X_test.values)"
      ],
      "execution_count": null,
      "outputs": []
    },
    {
      "cell_type": "markdown",
      "metadata": {
        "id": "EZjl4FZNdmYu"
      },
      "source": [
        "####Random Forest"
      ]
    },
    {
      "cell_type": "code",
      "metadata": {
        "id": "ffNIeP1Bdh83"
      },
      "source": [
        "# 모델 정의\n",
        "#rfMod = RandomForestClassifier(n_estimators=10, criterion='gini', max_depth=None, min_samples_split=2,\n",
        "#                               min_samples_leaf=1, min_weight_fraction_leaf=0.0, max_features='auto',\n",
        "#                               max_leaf_nodes=None, bootstrap=True, oob_score=False, n_jobs=1, \n",
        "#                               random_state=None, verbose=0)\n",
        "rfMod = RandomForestClassifier()\n",
        "# 모델 피팅\n",
        "rfMod.fit(X_train, y_train)\n",
        "# 모델 예측\n",
        "rf_pred_labels = rfMod.predict(X_test.values)"
      ],
      "execution_count": null,
      "outputs": []
    },
    {
      "cell_type": "code",
      "metadata": {
        "id": "Ntmmut3w0UL7",
        "colab": {
          "base_uri": "https://localhost:8080/",
          "height": 187
        },
        "outputId": "db4cc3a8-efa8-489c-8197-11ceaf09f823"
      },
      "source": [
        "print(\"------ RF ------\")\n",
        "print(classification_report(y_test, rf_pred_labels, digits=4))"
      ],
      "execution_count": null,
      "outputs": [
        {
          "output_type": "stream",
          "text": [
            "------ RF ------\n",
            "              precision    recall  f1-score   support\n",
            "\n",
            "           0     0.7725    0.7828    0.7776       373\n",
            "           1     0.8228    0.8139    0.8183       462\n",
            "\n",
            "    accuracy                         0.8000       835\n",
            "   macro avg     0.7976    0.7983    0.7980       835\n",
            "weighted avg     0.8003    0.8000    0.8001       835\n",
            "\n"
          ],
          "name": "stdout"
        }
      ]
    },
    {
      "cell_type": "markdown",
      "metadata": {
        "id": "6tPLTOlzclMO"
      },
      "source": [
        "####Ada Boost"
      ]
    },
    {
      "cell_type": "code",
      "metadata": {
        "id": "9NhpYV0ochgR"
      },
      "source": [
        "# 모델 정의\n",
        "#adaMod = AdaBoostClassifier(base_estimator=None, n_estimators=200, learning_rate=1.0)\n",
        "adaMod = AdaBoostClassifier()\n",
        "# 모델 피팅\n",
        "adaMod.fit(X_train, y_train)\n",
        "# 모델 예측\n",
        "ada_pred_labels = adaMod.predict(X_test.values)"
      ],
      "execution_count": null,
      "outputs": []
    },
    {
      "cell_type": "markdown",
      "metadata": {
        "id": "G293V8i-dBeq"
      },
      "source": [
        "####Gradient Boosting"
      ]
    },
    {
      "cell_type": "code",
      "metadata": {
        "id": "ks-xqyCWc9Ky"
      },
      "source": [
        "# 모델 정의\n",
        "#gbMod = GradientBoostingClassifier(loss='deviance', learning_rate=0.1, n_estimators=200, subsample=1.0,\n",
        "#                                   min_samples_split=2, min_samples_leaf=1, min_weight_fraction_leaf=0.0, \n",
        "#                                   max_depth=3,\n",
        "#                                   init=None, random_state=None, max_features=None, verbose=0)\n",
        "gbMod = GradientBoostingClassifier()\n",
        "# 모델 피팅\n",
        "gbMod.fit(X_train, y_train)\n",
        "# 모델 예측\n",
        "gb_pred_labels = gbMod.predict(X_test.values)"
      ],
      "execution_count": null,
      "outputs": []
    },
    {
      "cell_type": "markdown",
      "metadata": {
        "id": "wX0vv4AtYzvB"
      },
      "source": [
        "####XGBoost"
      ]
    },
    {
      "cell_type": "code",
      "metadata": {
        "id": "bgofHj1nCR9m"
      },
      "source": [
        "import xgboost as xgb\n",
        "from xgboost import plot_importance"
      ],
      "execution_count": null,
      "outputs": []
    },
    {
      "cell_type": "code",
      "metadata": {
        "id": "oFOsPpQa2TAa",
        "colab": {
          "base_uri": "https://localhost:8080/",
          "height": 34
        },
        "outputId": "edbaad3f-20af-4591-cbe6-fb369521de54"
      },
      "source": [
        "print(xgb.__version__)"
      ],
      "execution_count": null,
      "outputs": [
        {
          "output_type": "stream",
          "text": [
            "0.90\n"
          ],
          "name": "stdout"
        }
      ]
    },
    {
      "cell_type": "code",
      "metadata": {
        "id": "bYr0ttu1940N"
      },
      "source": [
        "xgMod = xgb.XGBClassifier(n_estimators=500, learning_rate=0.1, max_depth=4)\n",
        "\n",
        "xgMod.fit(X_train, y_train)\n",
        "xg_pred_labels = xgMod.predict(X_test)"
      ],
      "execution_count": null,
      "outputs": []
    },
    {
      "cell_type": "code",
      "metadata": {
        "id": "VZU8xZRFgsJF",
        "colab": {
          "base_uri": "https://localhost:8080/",
          "height": 187
        },
        "outputId": "635a8ea0-7db0-461a-9eaf-7695fe9c3233"
      },
      "source": [
        "print(\"------ XGB ------\")\n",
        "print(classification_report(y_test, xg_pred_labels, digits=4))"
      ],
      "execution_count": null,
      "outputs": [
        {
          "output_type": "stream",
          "text": [
            "------ XGB ------\n",
            "              precision    recall  f1-score   support\n",
            "\n",
            "           0     0.7804    0.7909    0.7856       373\n",
            "           1     0.8293    0.8203    0.8248       462\n",
            "\n",
            "    accuracy                         0.8072       835\n",
            "   macro avg     0.8049    0.8056    0.8052       835\n",
            "weighted avg     0.8075    0.8072    0.8073       835\n",
            "\n"
          ],
          "name": "stdout"
        }
      ]
    },
    {
      "cell_type": "code",
      "metadata": {
        "id": "iMEccBJ2Dgdx"
      },
      "source": [
        "fig, ax = plt.subplots(figsize=(10, 12))\n",
        "plot_importance(xgbmMod, ax=ax)"
      ],
      "execution_count": null,
      "outputs": []
    },
    {
      "cell_type": "markdown",
      "metadata": {
        "id": "6OBmJ6-UZJjW"
      },
      "source": [
        "####LightGBM"
      ]
    },
    {
      "cell_type": "code",
      "metadata": {
        "id": "vp_x5hHEY_pZ"
      },
      "source": [
        "from lightgbm import LGBMClassifier, plot_importance"
      ],
      "execution_count": null,
      "outputs": []
    },
    {
      "cell_type": "code",
      "metadata": {
        "id": "-0eVujhp2k1g",
        "colab": {
          "base_uri": "https://localhost:8080/",
          "height": 34
        },
        "outputId": "017ff383-c73f-4662-8d3b-967338db726a"
      },
      "source": [
        "import lightgbm\n",
        "print(lightgbm.__version__)"
      ],
      "execution_count": null,
      "outputs": [
        {
          "output_type": "stream",
          "text": [
            "2.2.3\n"
          ],
          "name": "stdout"
        }
      ]
    },
    {
      "cell_type": "code",
      "metadata": {
        "id": "vMj22PLUZMdL"
      },
      "source": [
        "lgbmMod = LGBMClassifier(n_estimators=500, learning_rate=0.1, max_depth=4)\n",
        "#lgbmMod = LGBMClassifier()\n",
        "lgbmMod.fit(X_train, y_train)\n",
        "lgbm_pred_labels = lgbmMod.predict(X_test)"
      ],
      "execution_count": null,
      "outputs": []
    },
    {
      "cell_type": "code",
      "metadata": {
        "id": "vd2enclChT3i",
        "colab": {
          "base_uri": "https://localhost:8080/",
          "height": 187
        },
        "outputId": "2cf9fd6f-80a6-4a8e-fdff-be63b75bc2ea"
      },
      "source": [
        "print(\"------ LGBM ------\")\n",
        "print(classification_report(y_test, lgbm_pred_labels, digits=4))"
      ],
      "execution_count": null,
      "outputs": [
        {
          "output_type": "stream",
          "text": [
            "------ LGBM ------\n",
            "              precision    recall  f1-score   support\n",
            "\n",
            "           0     0.7844    0.8097    0.7968       373\n",
            "           1     0.8422    0.8203    0.8311       462\n",
            "\n",
            "    accuracy                         0.8156       835\n",
            "   macro avg     0.8133    0.8150    0.8140       835\n",
            "weighted avg     0.8164    0.8156    0.8158       835\n",
            "\n"
          ],
          "name": "stdout"
        }
      ]
    },
    {
      "cell_type": "code",
      "metadata": {
        "id": "Kf0baPJtR01Z"
      },
      "source": [
        "fig, ax = plt.subplots(figsize=(10, 240))\n",
        "plot_importance(lgbmMod, ax=ax)"
      ],
      "execution_count": null,
      "outputs": []
    },
    {
      "cell_type": "markdown",
      "metadata": {
        "id": "6CrUo6MIAVG8"
      },
      "source": [
        "#### Model Evaluation"
      ]
    },
    {
      "cell_type": "code",
      "metadata": {
        "id": "643Nd8Rm_kiS"
      },
      "source": [
        "# 성능 평가\n",
        "print(\"------ KNN ------\")\n",
        "print(classification_report(y_test, kn_pred_labels, digits=4))\n",
        "print(\"------ GLM ------\")\n",
        "print(classification_report(y_test, glm_pred_labels, digits=4))\n",
        "print(\"------ ADA ------\")\n",
        "print(classification_report(y_test, ada_pred_labels, digits=4))\n",
        "print(\"------ GB ------\")\n",
        "print(classification_report(y_test, gb_pred_labels, digits=4))\n",
        "print(\"------ RF ------\")\n",
        "print(classification_report(y_test, rf_pred_labels, digits=4))\n",
        "print(\"------ XGB ------\")\n",
        "print(classification_report(y_test, xg_pred_labels, digits=4))\n",
        "print(\"------ LGBM ------\")\n",
        "print(classification_report(y_test, lgbm_pred_labels, digits=4))\n",
        "## 결과 \n",
        "# KNN : F1-0.7801, ACC-0.7667\n",
        "#  RF : F1-0.7652, ACC-0.7519"
      ],
      "execution_count": null,
      "outputs": []
    },
    {
      "cell_type": "markdown",
      "metadata": {
        "id": "50sXJXfsd8ux"
      },
      "source": [
        "###Cross Validation"
      ]
    },
    {
      "cell_type": "code",
      "metadata": {
        "id": "m4XbUvHNV_QU"
      },
      "source": [
        "from sklearn.model_selection import cross_val_score"
      ],
      "execution_count": null,
      "outputs": []
    },
    {
      "cell_type": "code",
      "metadata": {
        "id": "84UYEUsRmu8q"
      },
      "source": [
        "from sklearn.model_selection import KFold"
      ],
      "execution_count": null,
      "outputs": []
    },
    {
      "cell_type": "code",
      "metadata": {
        "id": "fz-6K051m11M",
        "colab": {
          "base_uri": "https://localhost:8080/",
          "height": 68
        },
        "outputId": "ed129e9c-bac8-45d2-bbee-ca30012baebc"
      },
      "source": [
        "# LightGBM 교차 검증\n",
        "kfold = KFold(n_splits=10, shuffle=True, random_state=0)\n",
        "scores = cross_val_score(lgbmMod, X, y, cv=kfold, verbose=1, n_jobs=-1, scoring='f1')\n",
        "print(\"LightGBM 교차 검증 평균 점수 :  {:.4f}\".format(scores.mean()))"
      ],
      "execution_count": null,
      "outputs": [
        {
          "output_type": "stream",
          "text": [
            "[Parallel(n_jobs=-1)]: Using backend LokyBackend with 2 concurrent workers.\n"
          ],
          "name": "stderr"
        },
        {
          "output_type": "stream",
          "text": [
            "LightGBM 교차 검증 평균 점수 :  0.8107\n"
          ],
          "name": "stdout"
        },
        {
          "output_type": "stream",
          "text": [
            "[Parallel(n_jobs=-1)]: Done  10 out of  10 | elapsed:  2.3min finished\n"
          ],
          "name": "stderr"
        }
      ]
    },
    {
      "cell_type": "code",
      "metadata": {
        "id": "GL5mZ8fHr-TR",
        "colab": {
          "base_uri": "https://localhost:8080/",
          "height": 68
        },
        "outputId": "79c79c7e-d578-4169-ca6e-fbb8b958b85c"
      },
      "source": [
        "kfold = KFold(n_splits=10, shuffle=True, random_state=0)\n",
        "scores = cross_val_score(rfMod, X, y, cv=kfold, verbose=1, n_jobs=-1, scoring='f1')\n",
        "print(\"RandomForest 교차 검증 평균 점수 :  {:.4f}\".format(scores.mean()))"
      ],
      "execution_count": null,
      "outputs": [
        {
          "output_type": "stream",
          "text": [
            "[Parallel(n_jobs=-1)]: Using backend LokyBackend with 2 concurrent workers.\n"
          ],
          "name": "stderr"
        },
        {
          "output_type": "stream",
          "text": [
            "RandomForest 교차 검증 평균 점수 :  0.8200\n"
          ],
          "name": "stdout"
        },
        {
          "output_type": "stream",
          "text": [
            "[Parallel(n_jobs=-1)]: Done  10 out of  10 | elapsed:   49.9s finished\n"
          ],
          "name": "stderr"
        }
      ]
    },
    {
      "cell_type": "code",
      "metadata": {
        "id": "U5CfcTj-shKE",
        "colab": {
          "base_uri": "https://localhost:8080/",
          "height": 68
        },
        "outputId": "7ada2d72-8aff-4686-8332-14f6f6b05ac9"
      },
      "source": [
        "kfold = KFold(n_splits=10, shuffle=True, random_state=0)\n",
        "scores = cross_val_score(xgMod, X, y, cv=kfold, verbose=1, n_jobs=-1, scoring='f1')\n",
        "print(\"XGB 교차 검증 평균 점수 :  {:.4f}\".format(scores.mean()))"
      ],
      "execution_count": null,
      "outputs": [
        {
          "output_type": "stream",
          "text": [
            "[Parallel(n_jobs=-1)]: Using backend LokyBackend with 2 concurrent workers.\n"
          ],
          "name": "stderr"
        },
        {
          "output_type": "stream",
          "text": [
            "XGB 교차 검증 평균 점수 :  0.8149\n"
          ],
          "name": "stdout"
        },
        {
          "output_type": "stream",
          "text": [
            "[Parallel(n_jobs=-1)]: Done  10 out of  10 | elapsed: 39.7min finished\n"
          ],
          "name": "stderr"
        }
      ]
    },
    {
      "cell_type": "markdown",
      "metadata": {
        "id": "6GNEqrDeiE-C"
      },
      "source": [
        "###Hyper parameter optimization using Randomized search"
      ]
    },
    {
      "cell_type": "code",
      "metadata": {
        "id": "rESi7GvdeFSr"
      },
      "source": [
        "from sklearn.model_selection import RandomizedSearchCV, GridSearchCV\n",
        "from scipy.stats import randint"
      ],
      "execution_count": null,
      "outputs": []
    },
    {
      "cell_type": "markdown",
      "metadata": {
        "id": "_AuaoT8vhQqo"
      },
      "source": [
        "####light GBM Param Tuning"
      ]
    },
    {
      "cell_type": "code",
      "metadata": {
        "id": "e1V9AIHchW-D"
      },
      "source": [
        "# 하이퍼 파라미터 후보값 셋팅\n",
        "lgbmHyperParams = {\n",
        "    'n_estimators': randint(100, 1000), # randint(100, 1000) > 847\n",
        "    'learning_rate': [0.01, 0.1, 0.3], # [0.01, 0.1, 0.3] > 0.1\n",
        "    'num_leaves': randint(16, 108), # randint(16, 108) > 105\n",
        "    'max_depth':  randint(-1, 100), # randint(-1, 100) > 24\n",
        "    'min_child_samples': randint(20, 120) # randint(20, 120) > 81\n",
        "    # best_score=0.8173\n",
        "}"
      ],
      "execution_count": null,
      "outputs": []
    },
    {
      "cell_type": "code",
      "metadata": {
        "id": "gRfRIW4ghoi6",
        "colab": {
          "base_uri": "https://localhost:8080/",
          "height": 85
        },
        "outputId": "24bf54dc-ebdc-42ca-fce9-3873b5908468"
      },
      "source": [
        "# 하이퍼 파라미터 튜닝\n",
        "gridSearchLgbm = RandomizedSearchCV(estimator=lgbmMod, param_distributions=lgbmHyperParams, n_iter=10,\n",
        "                                    scoring='f1', cv=None, verbose=2, n_jobs=-1, random_state=234).fit(X_train, y_train)"
      ],
      "execution_count": null,
      "outputs": [
        {
          "output_type": "stream",
          "text": [
            "Fitting 5 folds for each of 10 candidates, totalling 50 fits\n"
          ],
          "name": "stdout"
        },
        {
          "output_type": "stream",
          "text": [
            "[Parallel(n_jobs=-1)]: Using backend LokyBackend with 2 concurrent workers.\n",
            "[Parallel(n_jobs=-1)]: Done  37 tasks      | elapsed: 20.8min\n",
            "[Parallel(n_jobs=-1)]: Done  50 out of  50 | elapsed: 26.2min finished\n"
          ],
          "name": "stderr"
        }
      ]
    },
    {
      "cell_type": "code",
      "metadata": {
        "id": "hKEwvZI7IDSK",
        "colab": {
          "base_uri": "https://localhost:8080/",
          "height": 119
        },
        "outputId": "ff07fee5-ae1b-44a5-943e-79877d7310f4"
      },
      "source": [
        "# 하이퍼 파라미터 후보값 중 최적값 확인\n",
        "gridSearchLgbm.best_params_, gridSearchLgbm.best_score_"
      ],
      "execution_count": null,
      "outputs": [
        {
          "output_type": "execute_result",
          "data": {
            "text/plain": [
              "({'learning_rate': 0.01,\n",
              "  'max_depth': 36,\n",
              "  'min_child_samples': 27,\n",
              "  'n_estimators': 870,\n",
              "  'num_leaves': 97},\n",
              " 0.8186260959307716)"
            ]
          },
          "metadata": {
            "tags": []
          },
          "execution_count": 14
        }
      ]
    },
    {
      "cell_type": "code",
      "metadata": {
        "id": "fRuE65rUm2xf"
      },
      "source": [
        "# 하이퍼 파라미터 후보값 셋팅\n",
        "lgbmHyperParams = {\n",
        "    'n_estimators': [100, 400, 800],\n",
        "    'learning_rate': [0.01, 0.1, 0.3],\n",
        "    'num_leaves': [15, 31, 63, 127],\n",
        "    'max_depth':  [4, 8, 16, -1],\n",
        "    'min_child_samples': [20, 40, 80, 120],\n",
        "    'subsample': [0.6, 0.7, 0.8, 1.0]\n",
        "}"
      ],
      "execution_count": null,
      "outputs": []
    },
    {
      "cell_type": "code",
      "metadata": {
        "id": "eo5Tf5MXndgg",
        "colab": {
          "base_uri": "https://localhost:8080/"
        },
        "outputId": "a1c477e9-2312-4625-922d-1e27db50f62d"
      },
      "source": [
        "# 하이퍼 파라미터 튜닝\n",
        "gridSearchLgbm = GridSearchCV(estimator=lgbmMod, param_grid=lgbmHyperParams,\n",
        "                                    scoring='f1', cv=5, verbose=2, n_jobs=-1).fit(X_train, y_train)"
      ],
      "execution_count": null,
      "outputs": [
        {
          "output_type": "stream",
          "text": [
            "Fitting 5 folds for each of 2304 candidates, totalling 11520 fits\n"
          ],
          "name": "stdout"
        },
        {
          "output_type": "stream",
          "text": [
            "[Parallel(n_jobs=-1)]: Using backend LokyBackend with 2 concurrent workers.\n",
            "[Parallel(n_jobs=-1)]: Done  37 tasks      | elapsed:  2.5min\n",
            "/usr/local/lib/python3.6/dist-packages/joblib/externals/loky/process_executor.py:691: UserWarning: A worker stopped while some jobs were given to the executor. This can be caused by a too short worker timeout or by a memory leak.\n",
            "  \"timeout or by a memory leak.\", UserWarning\n",
            "[Parallel(n_jobs=-1)]: Done 158 tasks      | elapsed: 18.9min\n",
            "[Parallel(n_jobs=-1)]: Done 361 tasks      | elapsed: 55.4min\n"
          ],
          "name": "stderr"
        }
      ]
    },
    {
      "cell_type": "markdown",
      "metadata": {
        "id": "6PNozqLpjq4l"
      },
      "source": [
        "####xg Boost Param Tuning"
      ]
    },
    {
      "cell_type": "code",
      "metadata": {
        "id": "uzXaBGH8iLIK"
      },
      "source": [
        "# 하이퍼 파라미터 후보값 셋팅\n",
        "xgHyperParams = {\n",
        "    'n_estimators': randint(100, 600),\n",
        "    'max_depth': randint(1,10)\n",
        "    }"
      ],
      "execution_count": null,
      "outputs": []
    },
    {
      "cell_type": "code",
      "metadata": {
        "id": "qMWu-sMEiVHf"
      },
      "source": [
        "# 하이퍼 파라미터 튜닝\n",
        "\n",
        "gridSearchXg = RandomizedSearchCV(estimator=xgMod, param_distributions=xgHyperParams, n_iter=10,\n",
        "                                   scoring='f1', cv=None, verbose=2).fit(X_train, y_train)"
      ],
      "execution_count": null,
      "outputs": []
    },
    {
      "cell_type": "code",
      "metadata": {
        "id": "GUZjE-KniXr3",
        "colab": {
          "base_uri": "https://localhost:8080/",
          "height": 34
        },
        "outputId": "9cdcd6dc-8073-4cda-f96e-8b507bb4c948"
      },
      "source": [
        "# 하이퍼 파라미터 후보값 중 최적값 확인\n",
        "gridSearchXg.best_params_, gridSearchXg.best_score_"
      ],
      "execution_count": null,
      "outputs": [
        {
          "output_type": "execute_result",
          "data": {
            "text/plain": [
              "({'max_depth': 8, 'n_estimators': 324}, 0.8174254246893543)"
            ]
          },
          "metadata": {
            "tags": []
          },
          "execution_count": 51
        }
      ]
    },
    {
      "cell_type": "code",
      "metadata": {
        "id": "87aQqtf8-t-H"
      },
      "source": [
        "# Best XGBoost Param 으로 다시 훈련\n",
        "bestXgbModFitted = gridSearchXg.best_estimator_.fit(X_train, y_train)"
      ],
      "execution_count": null,
      "outputs": []
    },
    {
      "cell_type": "code",
      "metadata": {
        "id": "OriR6RBZDXpf"
      },
      "source": [
        "best_xgb_pred_labels = bestXgbModFitted.predict(X_test)"
      ],
      "execution_count": null,
      "outputs": []
    },
    {
      "cell_type": "markdown",
      "metadata": {
        "id": "PuX8vpsojWTW"
      },
      "source": [
        "####Train models with help of new hyper parameter"
      ]
    },
    {
      "cell_type": "code",
      "metadata": {
        "id": "fhvWGORYefps"
      },
      "source": [
        "# Best LightGBM Param 으로 다시 훈련\n",
        "bestLgbmModFitted = gridSearchLgbm.best_estimator_.fit(X_train, y_train)"
      ],
      "execution_count": null,
      "outputs": []
    },
    {
      "cell_type": "code",
      "metadata": {
        "id": "WFEIySpXe9ZZ",
        "colab": {
          "base_uri": "https://localhost:8080/",
          "height": 122
        },
        "outputId": "f427ec6a-f3a7-435e-edd5-1dca8824cf61"
      },
      "source": [
        "# Best LightGBM Param CV, 모델 검증 \n",
        "kfold = KFold(n_splits=10, shuffle=True, random_state=0)\n",
        "scores = cross_val_score(bestLgbmModFitted, X, y, cv=kfold, verbose=1, n_jobs=-1, scoring='f1')\n",
        "print(\"LightGBM 교차 검증 평균 점수 :  {:.4f}\".format(scores.mean()))"
      ],
      "execution_count": null,
      "outputs": [
        {
          "output_type": "stream",
          "text": [
            "[Parallel(n_jobs=-1)]: Using backend LokyBackend with 2 concurrent workers.\n",
            "/usr/local/lib/python3.6/dist-packages/joblib/externals/loky/process_executor.py:691: UserWarning: A worker stopped while some jobs were given to the executor. This can be caused by a too short worker timeout or by a memory leak.\n",
            "  \"timeout or by a memory leak.\", UserWarning\n"
          ],
          "name": "stderr"
        },
        {
          "output_type": "stream",
          "text": [
            "LightGBM 교차 검증 평균 점수 :  0.8284\n"
          ],
          "name": "stdout"
        },
        {
          "output_type": "stream",
          "text": [
            "[Parallel(n_jobs=-1)]: Done  10 out of  10 | elapsed: 12.7min finished\n"
          ],
          "name": "stderr"
        }
      ]
    },
    {
      "cell_type": "code",
      "metadata": {
        "id": "RyYxz0tlDxmC"
      },
      "source": [
        "best_lgbm_pred_labels = bestLgbmModFitted.predict(X_test.values)"
      ],
      "execution_count": null,
      "outputs": []
    },
    {
      "cell_type": "code",
      "metadata": {
        "id": "HnbdC-jJiLgM",
        "colab": {
          "base_uri": "https://localhost:8080/",
          "height": 187
        },
        "outputId": "28100484-18b9-44e8-b5ea-744ded614e8e"
      },
      "source": [
        "print(\"------ Best LGBM Param Predict ------\")\n",
        "print(classification_report(y_test, best_lgbm_pred_labels, digits=4))"
      ],
      "execution_count": null,
      "outputs": [
        {
          "output_type": "stream",
          "text": [
            "------ Best LGBM Param Predict ------\n",
            "              precision    recall  f1-score   support\n",
            "\n",
            "           0     0.7963    0.8070    0.8016       373\n",
            "           1     0.8425    0.8333    0.8379       462\n",
            "\n",
            "    accuracy                         0.8216       835\n",
            "   macro avg     0.8194    0.8202    0.8197       835\n",
            "weighted avg     0.8218    0.8216    0.8217       835\n",
            "\n"
          ],
          "name": "stdout"
        }
      ]
    },
    {
      "cell_type": "code",
      "metadata": {
        "id": "_FC3KP5wIB3I"
      },
      "source": [
        "# Feature 추가\n",
        "X['ecfp_sum'] = X[X.columns[:1024]].sum(axis=1)\n",
        "X['fcfp_sum'] = X[X.columns[1024:2048]].sum(axis=1)\n",
        "X['ptfp_sum'] = X[X.columns[2048:3072]].sum(axis=1)"
      ],
      "execution_count": null,
      "outputs": []
    },
    {
      "cell_type": "code",
      "metadata": {
        "id": "tIwb7eVPJs9p"
      },
      "source": [
        "# 추가된 Feature에서 Best LightGBM Param 으로 다시 훈련\n",
        "bestLgbmModFitted_added = gridSearchLgbm.best_estimator_.fit(X_train, y_train)"
      ],
      "execution_count": null,
      "outputs": []
    },
    {
      "cell_type": "code",
      "metadata": {
        "id": "0pDN6nszKLbR",
        "colab": {
          "base_uri": "https://localhost:8080/",
          "height": 68
        },
        "outputId": "d38bcd28-5101-4b0e-8537-c87ed56dccb1"
      },
      "source": [
        "# 10 Fold CV로 검증\n",
        "kfold = KFold(n_splits=10, shuffle=True, random_state=0)\n",
        "scores = cross_val_score(bestLgbmModFitted_added, X, y, cv=kfold, verbose=1, n_jobs=-1, scoring='f1')\n",
        "print(\"LightGBM 교차 검증 평균 점수 :  {:.4f}\".format(scores.mean()))"
      ],
      "execution_count": null,
      "outputs": [
        {
          "output_type": "stream",
          "text": [
            "[Parallel(n_jobs=-1)]: Using backend LokyBackend with 2 concurrent workers.\n"
          ],
          "name": "stderr"
        },
        {
          "output_type": "stream",
          "text": [
            "LightGBM 교차 검증 평균 점수 :  0.8280\n"
          ],
          "name": "stdout"
        },
        {
          "output_type": "stream",
          "text": [
            "[Parallel(n_jobs=-1)]: Done  10 out of  10 | elapsed: 13.2min finished\n"
          ],
          "name": "stderr"
        }
      ]
    },
    {
      "cell_type": "code",
      "metadata": {
        "id": "I96S3iUcO82C"
      },
      "source": [
        "# 변수 중요도 확인\n",
        "fig, ax = plt.subplots(figsize=(10, 240))\n",
        "plot_importance(bestLgbmModFitted_added, ax=ax)"
      ],
      "execution_count": null,
      "outputs": []
    },
    {
      "cell_type": "code",
      "metadata": {
        "id": "G78iYhbz44aW"
      },
      "source": [
        "# Best GB Param\n",
        "bestGbModFitted = gridSearchGB.best_estimator_.fit(X_train, y_train)"
      ],
      "execution_count": null,
      "outputs": []
    },
    {
      "cell_type": "code",
      "metadata": {
        "id": "CI7CRQH2j_FL",
        "colab": {
          "base_uri": "https://localhost:8080/",
          "height": 119
        },
        "outputId": "8118f98f-11ee-4372-c296-71a55869f5bf"
      },
      "source": [
        "# Best GB, KNN CV\n",
        "cvDictbestpara = cvDictGen(functions=[bestGbModFitted, bestKnModFitted], scr='f1')\n",
        "cvDictbestpara"
      ],
      "execution_count": null,
      "outputs": [
        {
          "output_type": "stream",
          "text": [
            "[Parallel(n_jobs=-1)]: Using backend LokyBackend with 2 concurrent workers.\n",
            "[Parallel(n_jobs=-1)]: Done  10 out of  10 | elapsed: 19.6min finished\n",
            "[Parallel(n_jobs=-1)]: Using backend LokyBackend with 2 concurrent workers.\n",
            "[Parallel(n_jobs=-1)]: Done  10 out of  10 | elapsed:  1.6min finished\n"
          ],
          "name": "stderr"
        },
        {
          "output_type": "execute_result",
          "data": {
            "text/plain": [
              "{'GradientBoostingClassifier': [0.7281134192267799, 0.041367661735124385],\n",
              " 'KNeighborsClassifier': [0.7080833067379293, 0.04502954489265975]}"
            ]
          },
          "metadata": {
            "tags": []
          },
          "execution_count": 32
        }
      ]
    },
    {
      "cell_type": "code",
      "metadata": {
        "id": "bDRre39akKxw"
      },
      "source": [
        "# Best GB Pred\n",
        "best_gb_pred_labels=bestGbModFitted.predict(X_test.values)"
      ],
      "execution_count": null,
      "outputs": []
    },
    {
      "cell_type": "code",
      "metadata": {
        "id": "xPiKYlcJktty",
        "colab": {
          "base_uri": "https://localhost:8080/",
          "height": 187
        },
        "outputId": "f9523799-ee6d-485a-e18a-ac965989f7ba"
      },
      "source": [
        "# Best GB 성능 평가\n",
        "print(\"------ RF ------\")\n",
        "print(classification_report(y_test, best_gb_pred_labels, digits=4))"
      ],
      "execution_count": null,
      "outputs": [
        {
          "output_type": "stream",
          "text": [
            "------ RF ------\n",
            "              precision    recall  f1-score   support\n",
            "\n",
            "           0     0.7580    0.7641    0.7610       373\n",
            "           1     0.8083    0.8030    0.8056       462\n",
            "\n",
            "    accuracy                         0.7856       835\n",
            "   macro avg     0.7831    0.7836    0.7833       835\n",
            "weighted avg     0.7858    0.7856    0.7857       835\n",
            "\n"
          ],
          "name": "stdout"
        }
      ]
    },
    {
      "cell_type": "markdown",
      "metadata": {
        "id": "y8l31SKppoDk"
      },
      "source": [
        "###Feature Transformation"
      ]
    },
    {
      "cell_type": "markdown",
      "metadata": {
        "id": "_yiYgogUq9MZ"
      },
      "source": [
        "####Log Transform"
      ]
    },
    {
      "cell_type": "code",
      "metadata": {
        "id": "qNp0oB4PlMUj"
      },
      "source": [
        "import numpy as np\n",
        "from sklearn.preprocessing import FunctionTransformer\n",
        "\n",
        "transformer = FunctionTransformer(np.log1p)\n",
        "X_train_1 = np.array(X_train)\n",
        "X_train_transform = transformer.transform(X_train_1)"
      ],
      "execution_count": null,
      "outputs": []
    },
    {
      "cell_type": "code",
      "metadata": {
        "id": "xCqkrd3lp4jK"
      },
      "source": [
        "bestGbModFitted_transformed = gridSearchGB.best_estimator_.fit(X_train_transform, y_train)"
      ],
      "execution_count": null,
      "outputs": []
    },
    {
      "cell_type": "code",
      "metadata": {
        "id": "XF68o7naqENM"
      },
      "source": [
        "bestAdaModFitted_transformed = gridSearchAda.best_estimator_.fit(X_train_transform, y_train)"
      ],
      "execution_count": null,
      "outputs": []
    },
    {
      "cell_type": "code",
      "metadata": {
        "id": "aEE4aiK6qFPl"
      },
      "source": [
        "cvDictbestpara_transform = cvDictGen(functions=[bestGbModFitted_transformed, bestAdaModFitted_transformed], scr='roc_auc')"
      ],
      "execution_count": null,
      "outputs": []
    },
    {
      "cell_type": "code",
      "metadata": {
        "id": "PbH7-AdYqPtE"
      },
      "source": [
        "cvDictbestpara_transform"
      ],
      "execution_count": null,
      "outputs": []
    },
    {
      "cell_type": "code",
      "metadata": {
        "id": "jsNxVChAYk07"
      },
      "source": [
        "import numpy as np\n",
        "from sklearn.preprocessing import FunctionTransformer"
      ],
      "execution_count": null,
      "outputs": []
    },
    {
      "cell_type": "code",
      "metadata": {
        "id": "8AJU1JWEqUc3"
      },
      "source": [
        "transformer = FunctionTransformer(np.log1p)\n",
        "X_test_1 = np.array(X_test)\n",
        "X_test_transform = transformer.transform(X_test_1)"
      ],
      "execution_count": null,
      "outputs": []
    },
    {
      "cell_type": "code",
      "metadata": {
        "id": "Oxw_oo0Qqeue"
      },
      "source": [
        "X_test_transform"
      ],
      "execution_count": null,
      "outputs": []
    },
    {
      "cell_type": "code",
      "metadata": {
        "id": "O6WY1tARqjjL"
      },
      "source": [
        "test_labels=bestGbModFitted_transformed.predict_proba(np.array(X_test_transform))[:,1]"
      ],
      "execution_count": null,
      "outputs": []
    },
    {
      "cell_type": "code",
      "metadata": {
        "id": "z8wuKhndqsx1"
      },
      "source": [
        "roc_auc_score(y_test,test_labels , average='macro', sample_weight=None)"
      ],
      "execution_count": null,
      "outputs": []
    },
    {
      "cell_type": "code",
      "metadata": {
        "id": "VkDROUZDqvmH"
      },
      "source": [
        "test_labels=bestAdaModFitted_transformed.predict_proba(np.array(X_test_transform))[:,1]"
      ],
      "execution_count": null,
      "outputs": []
    },
    {
      "cell_type": "code",
      "metadata": {
        "id": "aa9qSrk3q0cH"
      },
      "source": [
        "roc_auc_score(y_test,test_labels , average='macro', sample_weight=None)"
      ],
      "execution_count": null,
      "outputs": []
    },
    {
      "cell_type": "markdown",
      "metadata": {
        "id": "bOvagB8RrBhs"
      },
      "source": [
        "####Voting based ensemble model"
      ]
    },
    {
      "cell_type": "code",
      "metadata": {
        "id": "IzS-jtW08gNJ"
      },
      "source": [
        "bestGbModFitted_transformed = bestGbModFitted\n",
        "bestKnModFitted_transformed = bestKnModFitted\n",
        "X_train_transform = X_train\n",
        "X_test_transform = X_test"
      ],
      "execution_count": null,
      "outputs": []
    },
    {
      "cell_type": "code",
      "metadata": {
        "id": "QvBfd8XrAmEJ"
      },
      "source": [
        "from sklearn.ensemble import VotingClassifier"
      ],
      "execution_count": null,
      "outputs": []
    },
    {
      "cell_type": "code",
      "metadata": {
        "id": "UG-Nx4MYrNFj"
      },
      "source": [
        "votingMod = VotingClassifier(estimators=[('lgbm', bestLgbmModFitted), \n",
        "                                         ('xgb', bestXgbModFitted)], voting='soft')#,weights=[2,1])\n",
        "votingMod = votingMod.fit(X_train, y_train)"
      ],
      "execution_count": null,
      "outputs": []
    },
    {
      "cell_type": "code",
      "metadata": {
        "id": "ohWNffYgrY2O"
      },
      "source": [
        "ens_pred_labels = votingMod.predict(X_test)"
      ],
      "execution_count": null,
      "outputs": []
    },
    {
      "cell_type": "code",
      "metadata": {
        "id": "9BQi48Kgreuv",
        "colab": {
          "base_uri": "https://localhost:8080/",
          "height": 187
        },
        "outputId": "aa3249d1-8e6c-430b-909e-f6e5670d065f"
      },
      "source": [
        "# Ensembled GB, KNN 성능 평가\n",
        "print(\"------ RF ------\")\n",
        "print(classification_report(y_test, ens_pred_labels, digits=4))"
      ],
      "execution_count": null,
      "outputs": [
        {
          "output_type": "stream",
          "text": [
            "------ RF ------\n",
            "              precision    recall  f1-score   support\n",
            "\n",
            "           0     0.7963    0.8177    0.8069       373\n",
            "           1     0.8496    0.8312    0.8403       462\n",
            "\n",
            "    accuracy                         0.8251       835\n",
            "   macro avg     0.8230    0.8244    0.8236       835\n",
            "weighted avg     0.8258    0.8251    0.8253       835\n",
            "\n"
          ],
          "name": "stdout"
        }
      ]
    },
    {
      "cell_type": "code",
      "metadata": {
        "id": "o9zRnVDTDxIL"
      },
      "source": [
        "# Stacking Ensemble\n",
        "pred = np.array([best_lgbm_pred_labels, best_xgb_pred_labels])"
      ],
      "execution_count": null,
      "outputs": []
    },
    {
      "cell_type": "code",
      "metadata": {
        "id": "2ToXuP08D9ue"
      },
      "source": [
        "pred = np.transpose(pred)"
      ],
      "execution_count": null,
      "outputs": []
    },
    {
      "cell_type": "code",
      "metadata": {
        "id": "d2MOd0hzED8w"
      },
      "source": [
        "from sklearn.linear_model import LogisticRegression\n",
        "from sklearn.metrics import accuracy_score"
      ],
      "execution_count": null,
      "outputs": []
    },
    {
      "cell_type": "code",
      "metadata": {
        "id": "yXKr8VCKEO2r"
      },
      "source": [
        "lr_final = LogisticRegression(C=10)"
      ],
      "execution_count": null,
      "outputs": []
    },
    {
      "cell_type": "code",
      "metadata": {
        "id": "wrooTOUJEUnu",
        "colab": {
          "base_uri": "https://localhost:8080/",
          "height": 102
        },
        "outputId": "23920cd7-89ae-421b-dbaf-42749842e3e9"
      },
      "source": [
        "lr_final.fit(pred, y_test)"
      ],
      "execution_count": null,
      "outputs": [
        {
          "output_type": "execute_result",
          "data": {
            "text/plain": [
              "LogisticRegression(C=10, class_weight=None, dual=False, fit_intercept=True,\n",
              "                   intercept_scaling=1, l1_ratio=None, max_iter=100,\n",
              "                   multi_class='auto', n_jobs=None, penalty='l2',\n",
              "                   random_state=None, solver='lbfgs', tol=0.0001, verbose=0,\n",
              "                   warm_start=False)"
            ]
          },
          "metadata": {
            "tags": []
          },
          "execution_count": 64
        }
      ]
    },
    {
      "cell_type": "code",
      "metadata": {
        "id": "QCd-RSY2Eiej"
      },
      "source": [
        "final = lr_final.predict(pred)"
      ],
      "execution_count": null,
      "outputs": []
    },
    {
      "cell_type": "code",
      "metadata": {
        "id": "BrE6hrAtEmgK",
        "colab": {
          "base_uri": "https://localhost:8080/",
          "height": 34
        },
        "outputId": "8b1dd13a-ca34-4dbe-99be-a8e045f31aed"
      },
      "source": [
        "print('최종 메타 모델 예측 정확도:{0:.4f}'.format(accuracy_score(y_test, final)))"
      ],
      "execution_count": null,
      "outputs": [
        {
          "output_type": "stream",
          "text": [
            "최종 메타 모델 예측 정확도:0.8180\n"
          ],
          "name": "stdout"
        }
      ]
    },
    {
      "cell_type": "code",
      "metadata": {
        "id": "TPPDYIETrjCJ"
      },
      "source": [
        "roc_auc_score(y_test, pred_labels , average='macro', sample_weight=None)"
      ],
      "execution_count": null,
      "outputs": []
    },
    {
      "cell_type": "code",
      "metadata": {
        "id": "kSyGNqsYrw-y"
      },
      "source": [
        "from sklearn.ensemble import VotingClassifier\n",
        "votingMod_old = VotingClassifier(estimators=[('gb', bestGbModFitted), ('ada', bestAdaModFitted)], \n",
        "                                 voting='soft',weights=[2,1])\n",
        "votingMod_old = votingMod.fit(X_train, y_train)"
      ],
      "execution_count": null,
      "outputs": []
    },
    {
      "cell_type": "code",
      "metadata": {
        "id": "H174uWmbrx-a"
      },
      "source": [
        "test_labels = votingMod_old.predict_proba(np.array(X_test.values))[:,1]"
      ],
      "execution_count": null,
      "outputs": []
    },
    {
      "cell_type": "code",
      "metadata": {
        "id": "38EBF7YAr2d8"
      },
      "source": [
        "roc_auc_score(y_test,test_labels , average='macro', sample_weight=None)"
      ],
      "execution_count": null,
      "outputs": []
    },
    {
      "cell_type": "markdown",
      "metadata": {
        "id": "TCxUxuKzsA0T"
      },
      "source": [
        "###Testing on Real Test Dataset"
      ]
    },
    {
      "cell_type": "code",
      "metadata": {
        "id": "jjcW8P8CsCs_"
      },
      "source": [
        "# Read Training dataset as well as drop the index column\n",
        "test_data = pd.read_csv('./data/cs-test.csv').drop('Unnamed: 0', axis = 1)\n",
        "# For each column heading we replace \"-\" and convert the heading in lowercase \n",
        "cleancolumn = []\n",
        "for i in range(len(test_data.columns)):\n",
        "    cleancolumn.append(test_data.columns[i].replace('-', '').lower())\n",
        "test_data.columns = cleancolumn"
      ],
      "execution_count": null,
      "outputs": []
    },
    {
      "cell_type": "code",
      "metadata": {
        "id": "JnVU9W_OsHXK"
      },
      "source": [
        "test_data.drop(['seriousdlqin2yrs'], axis=1, inplace=True)\n",
        "test_data.fillna((training_data.median()), inplace=True)"
      ],
      "execution_count": null,
      "outputs": []
    },
    {
      "cell_type": "code",
      "metadata": {
        "id": "mRM1qhz3sQZW"
      },
      "source": [
        "test_labels_votingMod_old = votingMod_old.predict_proba(np.array(test_data.values))[:,1]\n",
        "print (len(test_labels_votingMod_old))"
      ],
      "execution_count": null,
      "outputs": []
    },
    {
      "cell_type": "code",
      "metadata": {
        "id": "X0WGKkxjsS-i"
      },
      "source": [
        "output = pd.DataFrame({'ID':test_data.index, 'probability':test_labels_votingMod_old})"
      ],
      "execution_count": null,
      "outputs": []
    },
    {
      "cell_type": "code",
      "metadata": {
        "id": "KvT_DA0isXP_"
      },
      "source": [
        "output.to_csv(\"./predictions.csv\", index=False)"
      ],
      "execution_count": null,
      "outputs": []
    },
    {
      "cell_type": "code",
      "metadata": {
        "id": "3uzWpuOqsbEU"
      },
      "source": [
        "import numpy as np\n",
        "from sklearn.preprocessing import FunctionTransformer\n",
        "\n",
        "transformer = FunctionTransformer(np.log1p)\n",
        "test_data_temp = np.array(test_data)\n",
        "test_data_transform = transformer.transform(test_data_temp)"
      ],
      "execution_count": null,
      "outputs": []
    },
    {
      "cell_type": "code",
      "metadata": {
        "id": "QPTXKy6GsgX3"
      },
      "source": [
        "test_labels_votingMod = votingMod.predict_proba(np.array(test_data.values))[:,1]\n",
        "print (len(test_labels_votingMod_old))"
      ],
      "execution_count": null,
      "outputs": []
    },
    {
      "cell_type": "code",
      "metadata": {
        "id": "GZYDgUrwslsN"
      },
      "source": [
        "output = pd.DataFrame({'ID':test_data.index, 'probability':test_labels_votingMod})"
      ],
      "execution_count": null,
      "outputs": []
    },
    {
      "cell_type": "code",
      "metadata": {
        "id": "pMsSYOmJspo0"
      },
      "source": [
        "output.to_csv(\"./predictions_voting_Feature_transformation.csv\", index=False)"
      ],
      "execution_count": null,
      "outputs": []
    }
  ]
}